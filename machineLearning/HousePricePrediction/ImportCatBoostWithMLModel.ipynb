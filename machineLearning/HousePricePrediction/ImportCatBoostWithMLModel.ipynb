{
  "nbformat": 4,
  "nbformat_minor": 5,
  "metadata": {
    "kernelspec": {
      "display_name": "Python 3",
      "language": "python",
      "name": "python3"
    },
    "language_info": {
      "codemirror_mode": {
        "name": "ipython",
        "version": 3
      },
      "file_extension": ".py",
      "mimetype": "text/x-python",
      "name": "python",
      "nbconvert_exporter": "python",
      "pygments_lexer": "ipython3",
      "version": "3.8.8"
    },
    "colab": {
      "name": "ImportCatBoost.ipynb",
      "provenance": [],
      "collapsed_sections": []
    }
  },
  "cells": [
    {
      "cell_type": "code",
      "metadata": {
        "id": "06ad4d5d"
      },
      "source": [
        "!pip install catboost\n",
        "!pip install mapboxcli"
      ],
      "id": "06ad4d5d",
      "execution_count": null,
      "outputs": []
    },
    {
      "cell_type": "code",
      "metadata": {
        "id": "3748f532"
      },
      "source": [
        "import numpy as np\n",
        "import os\n",
        "from catboost import CatBoostRegressor\n",
        "import subprocess"
      ],
      "id": "3748f532",
      "execution_count": null,
      "outputs": []
    },
    {
      "cell_type": "code",
      "metadata": {
        "id": "ea9d2004"
      },
      "source": [
        "clf = CatBoostRegressor()\n",
        "clf.load_model(\"modelForHousePrediction\")\n",
        "\n",
        "#for USA's homes\n",
        "#clf.predict(bedrooms, bathrooms, sqft_living, sqft_lot, floors, waterfront, view, condition, sqft_above, sqft_basement, yr_built, yr_renovated, latitude, longitude)\n",
        "\n",
        "#translating adress to the latitude and longitude\n",
        "#for example string request can be: street, city, statezip, country.\n",
        "#address - variable example \n",
        "address = \"18810 Densmore Ave N, Shoreline, WA 98133, USA\"\n",
        "command = \"mapbox --access-token pk.eyJ1IjoiaXBpcG9zIiwiYSI6ImNrdGw5czZxbjFpbTUyd282YjlqY2ZvODMifQ.mnnD6BdczXSaIlFJFC_byQ geocoding --limit 1 \"\n",
        "command += \"\\\"\" + address + \"\\\"\"\n",
        "fileText = subprocess.check_output(command, shell=True).decode()\n",
        "\n",
        "index = fileText.find(\"center\")\n",
        "index2 = fileText.find(']', index + 3)\n",
        "index3 = fileText.rfind(',', index + 3, index2)\n",
        "\n",
        "latitude = fileText[index+9:index3]\n",
        "longitude = fileText[index3+1:index2]\n",
        "\n",
        "#example\n",
        "clf.predict([3.0, 1.50, 1340, 7912, 1.5, 0, 0, 3, 1340, 0, 1955, 2005, -122.338866, 47.765807])"
      ],
      "id": "ea9d2004",
      "execution_count": null,
      "outputs": []
    }
  ]
}